{
 "cells": [
  {
   "cell_type": "markdown",
   "id": "baff387c",
   "metadata": {},
   "source": [
    "# PYTHON\n"
   ]
  },
  {
   "cell_type": "code",
   "execution_count": null,
   "id": "3b0c1e9f",
   "metadata": {},
   "outputs": [],
   "source": [
    "import pandas as pd \n",
    "import numpy as np \n",
    "import matplotlib.pyplot as plt\n"
   ]
  },
  {
   "cell_type": "code",
   "execution_count": 7,
   "id": "c7b2b674-7641-455c-9091-de6b2cb933ba",
   "metadata": {},
   "outputs": [],
   "source": [
    "df = pd.read_csv('C:/Users/LENOVO/Downloads/Cars.csv')"
   ]
  },
  {
   "cell_type": "code",
   "execution_count": 8,
   "id": "ea2279c0-6c07-428e-b4f1-2458a1c9c9cf",
   "metadata": {},
   "outputs": [
    {
     "data": {
      "text/html": [
       "<div>\n",
       "<style scoped>\n",
       "    .dataframe tbody tr th:only-of-type {\n",
       "        vertical-align: middle;\n",
       "    }\n",
       "\n",
       "    .dataframe tbody tr th {\n",
       "        vertical-align: top;\n",
       "    }\n",
       "\n",
       "    .dataframe thead th {\n",
       "        text-align: right;\n",
       "    }\n",
       "</style>\n",
       "<table border=\"1\" class=\"dataframe\">\n",
       "  <thead>\n",
       "    <tr style=\"text-align: right;\">\n",
       "      <th></th>\n",
       "      <th>HP</th>\n",
       "      <th>MPG</th>\n",
       "      <th>VOL</th>\n",
       "      <th>SP</th>\n",
       "      <th>WT</th>\n",
       "    </tr>\n",
       "  </thead>\n",
       "  <tbody>\n",
       "    <tr>\n",
       "      <th>0</th>\n",
       "      <td>49</td>\n",
       "      <td>53.700681</td>\n",
       "      <td>89</td>\n",
       "      <td>104.185353</td>\n",
       "      <td>28.762059</td>\n",
       "    </tr>\n",
       "    <tr>\n",
       "      <th>1</th>\n",
       "      <td>55</td>\n",
       "      <td>50.013401</td>\n",
       "      <td>92</td>\n",
       "      <td>105.461264</td>\n",
       "      <td>30.466833</td>\n",
       "    </tr>\n",
       "    <tr>\n",
       "      <th>2</th>\n",
       "      <td>55</td>\n",
       "      <td>50.013401</td>\n",
       "      <td>92</td>\n",
       "      <td>105.461264</td>\n",
       "      <td>30.193597</td>\n",
       "    </tr>\n",
       "    <tr>\n",
       "      <th>3</th>\n",
       "      <td>70</td>\n",
       "      <td>45.696322</td>\n",
       "      <td>92</td>\n",
       "      <td>113.461264</td>\n",
       "      <td>30.632114</td>\n",
       "    </tr>\n",
       "    <tr>\n",
       "      <th>4</th>\n",
       "      <td>53</td>\n",
       "      <td>50.504232</td>\n",
       "      <td>92</td>\n",
       "      <td>104.461264</td>\n",
       "      <td>29.889149</td>\n",
       "    </tr>\n",
       "    <tr>\n",
       "      <th>...</th>\n",
       "      <td>...</td>\n",
       "      <td>...</td>\n",
       "      <td>...</td>\n",
       "      <td>...</td>\n",
       "      <td>...</td>\n",
       "    </tr>\n",
       "    <tr>\n",
       "      <th>76</th>\n",
       "      <td>322</td>\n",
       "      <td>36.900000</td>\n",
       "      <td>50</td>\n",
       "      <td>169.598513</td>\n",
       "      <td>16.132947</td>\n",
       "    </tr>\n",
       "    <tr>\n",
       "      <th>77</th>\n",
       "      <td>238</td>\n",
       "      <td>19.197888</td>\n",
       "      <td>115</td>\n",
       "      <td>150.576579</td>\n",
       "      <td>37.923113</td>\n",
       "    </tr>\n",
       "    <tr>\n",
       "      <th>78</th>\n",
       "      <td>263</td>\n",
       "      <td>34.000000</td>\n",
       "      <td>50</td>\n",
       "      <td>151.598513</td>\n",
       "      <td>15.769625</td>\n",
       "    </tr>\n",
       "    <tr>\n",
       "      <th>79</th>\n",
       "      <td>295</td>\n",
       "      <td>19.833733</td>\n",
       "      <td>119</td>\n",
       "      <td>167.944460</td>\n",
       "      <td>39.423099</td>\n",
       "    </tr>\n",
       "    <tr>\n",
       "      <th>80</th>\n",
       "      <td>236</td>\n",
       "      <td>12.101263</td>\n",
       "      <td>107</td>\n",
       "      <td>139.840817</td>\n",
       "      <td>34.948615</td>\n",
       "    </tr>\n",
       "  </tbody>\n",
       "</table>\n",
       "<p>81 rows × 5 columns</p>\n",
       "</div>"
      ],
      "text/plain": [
       "     HP        MPG  VOL          SP         WT\n",
       "0    49  53.700681   89  104.185353  28.762059\n",
       "1    55  50.013401   92  105.461264  30.466833\n",
       "2    55  50.013401   92  105.461264  30.193597\n",
       "3    70  45.696322   92  113.461264  30.632114\n",
       "4    53  50.504232   92  104.461264  29.889149\n",
       "..  ...        ...  ...         ...        ...\n",
       "76  322  36.900000   50  169.598513  16.132947\n",
       "77  238  19.197888  115  150.576579  37.923113\n",
       "78  263  34.000000   50  151.598513  15.769625\n",
       "79  295  19.833733  119  167.944460  39.423099\n",
       "80  236  12.101263  107  139.840817  34.948615\n",
       "\n",
       "[81 rows x 5 columns]"
      ]
     },
     "execution_count": 8,
     "metadata": {},
     "output_type": "execute_result"
    }
   ],
   "source": [
    "df"
   ]
  },
  {
   "cell_type": "code",
   "execution_count": 8,
   "id": "9903e871",
   "metadata": {},
   "outputs": [],
   "source": [
    "import scipy\n",
    "import numpy as np"
   ]
  },
  {
   "cell_type": "code",
   "execution_count": 9,
   "id": "853ee9f6",
   "metadata": {},
   "outputs": [],
   "source": [
    "from scipy.stats import norm"
   ]
  },
  {
   "cell_type": "code",
   "execution_count": 10,
   "id": "34301d2f",
   "metadata": {},
   "outputs": [],
   "source": [
    "val,m,s = 38,34.4,9.1"
   ]
  },
  {
   "cell_type": "code",
   "execution_count": 11,
   "id": "c48dd473",
   "metadata": {},
   "outputs": [
    {
     "name": "stdout",
     "output_type": "stream",
     "text": [
      "0.6538015530537146\n"
     ]
    }
   ],
   "source": [
    "print(norm.cdf(val,m,s))"
   ]
  },
  {
   "cell_type": "code",
   "execution_count": 12,
   "id": "f592a380",
   "metadata": {},
   "outputs": [
    {
     "name": "stdout",
     "output_type": "stream",
     "text": [
      "0.34619844694628543\n"
     ]
    }
   ],
   "source": [
    "print(1-norm.cdf(val,m,s))"
   ]
  },
  {
   "cell_type": "code",
   "execution_count": 13,
   "id": "a018c048",
   "metadata": {},
   "outputs": [],
   "source": [
    "val,m,s = 40,34.4,9.1"
   ]
  },
  {
   "cell_type": "code",
   "execution_count": 14,
   "id": "4faa7a81",
   "metadata": {},
   "outputs": [
    {
     "name": "stdout",
     "output_type": "stream",
     "text": [
      "0.7308496254906386\n"
     ]
    }
   ],
   "source": [
    "print(norm.cdf(val,m,s))"
   ]
  },
  {
   "cell_type": "code",
   "execution_count": 18,
   "id": "5c0c0866",
   "metadata": {},
   "outputs": [
    {
     "name": "stdout",
     "output_type": "stream",
     "text": [
      "0.8999847305059647\n"
     ]
    }
   ],
   "source": [
    "print(norm.cdf(50,34.4,9.1)-(norm.cdf(20,34.4,9.1)))"
   ]
  },
  {
   "cell_type": "code",
   "execution_count": 2,
   "id": "fea32be9",
   "metadata": {},
   "outputs": [],
   "source": [
    "from scipy import stats\n"
   ]
  },
  {
   "cell_type": "code",
   "execution_count": 3,
   "id": "67dbddfb",
   "metadata": {},
   "outputs": [
    {
     "data": {
      "text/plain": [
       "0.23660063096656658"
      ]
     },
     "execution_count": 3,
     "metadata": {},
     "output_type": "execute_result"
    }
   ],
   "source": [
    "stats.t.pdf(0.9933,17)"
   ]
  },
  {
   "cell_type": "code",
   "execution_count": 21,
   "id": "6157b600",
   "metadata": {},
   "outputs": [],
   "source": [
    "import matplotlib.pyplot as plt\n",
    "import numpy as np"
   ]
  },
  {
   "cell_type": "code",
   "execution_count": 3,
   "id": "e1244ac6",
   "metadata": {},
   "outputs": [],
   "source": [
    "Name_of_company = ['ALlied_Signal','Bankers_Trust','General_Mills','ITT_Industries','J.P.Morgan_&_Co.','Lehman_Brothers','Marriott','MCI','Merrill_Lynch','Microsoft','Morgan_Stanley','Sun_Microsystems','Travelers','US_Airways','Warner-Lambert']\n",
    "X_measure = [24.33,25.53,25.41,24.14,29.62,28.25,25.81,24.39,40.26,32.95,91.36,25.99,39.42,26.71,35.00]\n"
   ]
  },
  {
   "cell_type": "code",
   "execution_count": 31,
   "id": "cfc4ea29",
   "metadata": {},
   "outputs": [
    {
     "data": {
      "text/plain": [
       "[<matplotlib.lines.Line2D at 0x64047d8>]"
      ]
     },
     "execution_count": 31,
     "metadata": {},
     "output_type": "execute_result"
    },
    {
     "data": {
      "image/png": "[encoded data removed]",
      "text/plain": [
       "<Figure size 1440x504 with 1 Axes>"
      ]
     },
     "metadata": {
      "needs_background": "light"
     },
     "output_type": "display_data"
    }
   ],
   "source": [
    "plt.figure(figsize=(20,7))\n",
    "plt.xlabel('Name of Company',{'size':20})\n",
    "plt.ylabel('Measue X (in %)',{'size' :20})\n",
    "plt.plot(Name_of_company,X_measure)"
   ]
  },
  {
   "cell_type": "code",
   "execution_count": 29,
   "id": "346b0cce",
   "metadata": {},
   "outputs": [
    {
     "name": "stdout",
     "output_type": "stream",
     "text": [
      "33.278\n"
     ]
    }
   ],
   "source": [
    "import statistics as stats\n",
    "Measure_X = (24.33,25.53,25.41,24.14,29.62,28.25,25.81,24.39,40.26,32.95,91.36,25.99,39.42,26.71,35.00)\n",
    "print(stats.mean(Measure_X))"
   ]
  },
  {
   "cell_type": "code",
   "execution_count": 36,
   "id": "4e0b48a5",
   "metadata": {},
   "outputs": [
    {
     "name": "stdout",
     "output_type": "stream",
     "text": [
      "267.883576\n"
     ]
    }
   ],
   "source": [
    "print(stats.pvariance(Measure_X))"
   ]
  },
  {
   "cell_type": "code",
   "execution_count": 34,
   "id": "90a4acef",
   "metadata": {},
   "outputs": [
    {
     "data": {
      "text/plain": [
       "16.367149293630824"
      ]
     },
     "execution_count": 34,
     "metadata": {},
     "output_type": "execute_result"
    }
   ],
   "source": [
    "import numpy as  np\n",
    "np.std(Measure_X)"
   ]
  },
  {
   "cell_type": "code",
   "execution_count": 13,
   "id": "2b0ecdd1",
   "metadata": {},
   "outputs": [],
   "source": [
    "sname_1 = \"  ria    \""
   ]
  },
  {
   "cell_type": "code",
   "execution_count": 14,
   "id": "8ea45309",
   "metadata": {},
   "outputs": [
    {
     "name": "stdout",
     "output_type": "stream",
     "text": [
      "ria\n"
     ]
    }
   ],
   "source": [
    "print(sname_1.strip())"
   ]
  },
  {
   "cell_type": "code",
   "execution_count": 15,
   "id": "ea7e7184",
   "metadata": {},
   "outputs": [
    {
     "name": "stdout",
     "output_type": "stream",
     "text": [
      "  RIA    \n"
     ]
    }
   ],
   "source": [
    "print(sname_1.upper())"
   ]
  },
  {
   "cell_type": "code",
   "execution_count": 24,
   "id": "9ce0e35f",
   "metadata": {},
   "outputs": [
    {
     "name": "stdout",
     "output_type": "stream",
     "text": [
      "sachin is the expert and his age is 28.\n"
     ]
    }
   ],
   "source": [
    "expert = \"sachin\"\n",
    "age = 28\n",
    "print(\"{} is the expert and his age is {}.\".format(expert,age))"
   ]
  },
  {
   "cell_type": "code",
   "execution_count": null,
   "id": "e6610264",
   "metadata": {},
   "outputs": [],
   "source": []
  }
 ],
 "metadata": {
  "kernelspec": {
   "display_name": "Python 3",
   "language": "python",
   "name": "python3"
  },
  "language_info": {
   "codemirror_mode": {
    "name": "ipython",
    "version": 3
   },
   "file_extension": ".py",
   "mimetype": "text/x-python",
   "name": "python",
   "nbconvert_exporter": "python",
   "pygments_lexer": "ipython3",
   "version": "3.8.8"
  }
 },
 "nbformat": 4,
 "nbformat_minor": 5
}
